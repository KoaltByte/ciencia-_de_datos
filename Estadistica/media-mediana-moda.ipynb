{
 "cells": [
  {
   "cell_type": "markdown",
   "metadata": {},
   "source": [
    "<h1>Media</h1>"
   ]
  },
  {
   "cell_type": "code",
   "execution_count": 3,
   "metadata": {},
   "outputs": [
    {
     "name": "stdout",
     "output_type": "stream",
     "text": [
      "La media es:  3.625\n"
     ]
    }
   ],
   "source": [
    "import numpy as np\n",
    "\n",
    "datos = [2,4,1,4,2,5,5,6]\n",
    "media = np.mean(datos)\n",
    "print(f\"La media es:  {media}\")\n",
    "      "
   ]
  },
  {
   "cell_type": "markdown",
   "metadata": {},
   "source": [
    "<h1>Mediana</h1>"
   ]
  },
  {
   "cell_type": "code",
   "execution_count": 12,
   "metadata": {},
   "outputs": [
    {
     "name": "stdout",
     "output_type": "stream",
     "text": [
      "La mediana es: 4.0\n",
      "[1, 2, 2, 4, 4, 5, 5, 6]\n"
     ]
    }
   ],
   "source": [
    "import numpy as np\n",
    "\n",
    "datos = [2,4,1,4,2,5,5,6]\n",
    "mediana = np.median(datos)\n",
    "print(f\"La mediana es: {mediana}\")\n",
    "\n",
    "datos.sort()\n",
    "print(datos)"
   ]
  },
  {
   "cell_type": "markdown",
   "metadata": {},
   "source": [
    "<h1>Moda</h1>"
   ]
  },
  {
   "cell_type": "code",
   "execution_count": 25,
   "metadata": {},
   "outputs": [
    {
     "name": "stdout",
     "output_type": "stream",
     "text": [
      "La moda es: [2, 4, 5]\n",
      "[1, 2, 2, 4, 4, 5, 5, 6]\n"
     ]
    }
   ],
   "source": [
    "import statistics \n",
    "\n",
    "datos = [2,4,1,4,2,5,5,6]\n",
    "moda = statistics.multimode(datos)\n",
    "print(f\"La moda es: {moda}\")\n",
    "\n",
    "datos.sort()\n",
    "print(datos)"
   ]
  },
  {
   "cell_type": "markdown",
   "metadata": {},
   "source": [
    "<h1>Ejercicio práctico, filtrado de información</h1>\n",
    "<b>Objetivo</b>\n",
    "<ol>\n",
    "    <li>Filtrar datos para obtener inf. especifica</li>\n",
    "    <li>Calcular la media y la mediana de esa inf.</li>\n",
    "</ol>\n",
    "<b>Problema</b>\n",
    "<p>Se tiene un DataFrame llamado \"sales_date\" que contiene información sobre las ventas de productos en diferentes regiones. Se queiren filtrar los datos para obtener la ventas realizadas solo en la región \"west\", y luego calcular la media y la mediana</p>"
   ]
  },
  {
   "cell_type": "code",
   "execution_count": 8,
   "metadata": {},
   "outputs": [
    {
     "name": "stdout",
     "output_type": "stream",
     "text": [
      "\n",
      "{'region': ['West', 'East', 'West', 'North', 'South', 'West', 'East'], 'product': ['A', 'B', 'A', 'C', 'A', 'B', 'C'], 'sales': [120, 200, 150, 300, 100, 180, 250]}\n",
      "\n",
      "  region product  sales\n",
      "0   West       A    120\n",
      "1   East       B    200\n",
      "2   West       A    150\n",
      "3  North       C    300\n",
      "4  South       A    100\n",
      "5   West       B    180\n",
      "6   East       C    250\n",
      "\n",
      "  region product  sales\n",
      "0   West       A    120\n",
      "2   West       A    150\n",
      "5   West       B    180\n",
      "\n",
      "La media de las ventas en la región West es de: 150.0\n",
      "\n",
      "La mediana de las ventas en la región Wets es: 150.0\n"
     ]
    }
   ],
   "source": [
    "import pandas as pd \n",
    "import numpy as np\n",
    "\n",
    "#Data Frame de ejemplo\n",
    "data = {\n",
    "    'region': ['West', 'East', 'West', 'North', 'South', 'West', 'East'],\n",
    "    'product': ['A', 'B', 'A', 'C', 'A', 'B', 'C'],\n",
    "    'sales': [120, 200, 150, 300, 100, 180, 250]\n",
    "}\n",
    "\n",
    "#Crear un DataFrame con pandas\n",
    "#DataFrame: Estructura de datos bidimensional (tabla), útil para grander volúmenes de inf. \n",
    "sales_data = pd.DataFrame(data)\n",
    "\n",
    "print()\n",
    "print(data)#Visualizar la información sin estructura\n",
    "print()\n",
    "print(sales_data)#Vizualizar información estructurado como DataFrame\n",
    "\n",
    "#Filtrar ventas para la region \"West\"\n",
    "west_sales = sales_data[sales_data['region']== 'West']\n",
    "print()\n",
    "print(west_sales)\n",
    "\n",
    "#Calcular la media de las ventas en 'West'\n",
    "mean_sales = np.mean(west_sales['sales'])\n",
    "print()\n",
    "print(f\"La media de las ventas en la región West es de: {mean_sales}\")\n",
    "\n",
    "#Calculas la mediana de las ventas en 'West'\n",
    "median_sales = np.median(west_sales['sales'])\n",
    "print()\n",
    "print(f\"La mediana de las ventas en la región Wets es: {median_sales}\")"
   ]
  },
  {
   "cell_type": "markdown",
   "metadata": {},
   "source": [
    "<h1>Ejercicio práctico, histogramas</h1>\n",
    "<p>Ejemplo: Análisis de las horas de estudio de estudiantes \n",
    "\n",
    "Supongamos que tienes un DataFrame llamado data que contiene información sobre los hábitos de estudio de estudiantes. El DataFrame tiene las siguientes columnas:<br/>\n",
    "    - student_id: Identificador único del estudiante.</br>\n",
    "    - study_hours: Horas dedicadas al estudio por semana.</br>\n",
    "    - major: Carrera del estudiante (por ejemplo, 'Math', 'Biology', 'History', etc.).</br>\n",
    "     \n",
    "\n",
    "Queremos analizar las horas de estudio (study_hours) de los estudiantes de la carrera de matemáticas ('Math') y comparar la media y la mediana de las horas de estudio.  </p>"
   ]
  },
  {
   "cell_type": "code",
   "execution_count": 4,
   "metadata": {},
   "outputs": [
    {
     "name": "stdout",
     "output_type": "stream",
     "text": [
      "   student_id  study_hours    major\n",
      "0           1            5     Math\n",
      "1           2           10  Biology\n",
      "2           3           15     Math\n",
      "3           4           20  History\n",
      "4           5           25     Math\n",
      "5           6           30     Math\n",
      "6           7           35  Biology\n",
      "7           8           40     Math\n",
      "8           9           45  History\n",
      "9          10           50     Math\n",
      "____________________________________\n",
      "   student_id  study_hours major\n",
      "0           1            5  Math\n",
      "2           3           15  Math\n",
      "4           5           25  Math\n",
      "5           6           30  Math\n",
      "7           8           40  Math\n",
      "9          10           50  Math\n"
     ]
    },
    {
     "data": {
      "image/png": "[encoded data removed]",
      "text/plain": [
       "<Figure size 640x480 with 1 Axes>"
      ]
     },
     "metadata": {},
     "output_type": "display_data"
    },
    {
     "name": "stdout",
     "output_type": "stream",
     "text": [
      "La media de horas de estudio a la semana por estudiantes de matemáticas es: 27.5\n",
      "La mediana de horas de estudio a la semana por estudiantes de matemáticas es: 27.5\n",
      "La media y la mediana de las horas de estudio a la semana por estudiantes de matemáticas es: mean      27.5\n",
      "median    27.5\n",
      "Name: study_hours, dtype: float64\n"
     ]
    }
   ],
   "source": [
    "import pandas as pd\n",
    "import matplotlib.pyplot as plt\n",
    "import numpy as np\n",
    "\n",
    "\n",
    "data = {\n",
    "    'student_id': [1, 2, 3, 4, 5, 6, 7, 8, 9, 10],\n",
    "    'study_hours': [5, 10, 15, 20, 25, 30, 35, 40, 45, 50],\n",
    "    'major': ['Math', 'Biology', 'Math', 'History', 'Math', 'Math', 'Biology', 'Math', 'History', 'Math']\n",
    "}\n",
    "\n",
    "#Cración del dataFrame\n",
    "data_student = pd.DataFrame(data)\n",
    "print(data_student)\n",
    "\n",
    "#Subdividir para filtrar la inf. que contenga Math\n",
    "math_student = data_student[data_student['major']=='Math']\n",
    "print(\"____________________________________\")\n",
    "print(math_student)\n",
    "\n",
    "#Creando el histograma\n",
    "plt.hist(math_student['study_hours'], bins=5, color='orange', edgecolor='black')\n",
    "#Personalizar el gráfico\n",
    "#Título\n",
    "plt.title('Histograma de horas de estudio para estudiantes de matemáticas ')\n",
    "#Nombre en 'x'\n",
    "plt.xlabel('Horas de estudio por semana')\n",
    "plt.ylabel('Número de estudiantes')\n",
    "\n",
    "plt.show()\n",
    "\n",
    "#Cálculo de media y mediana\n",
    "media = np.mean(math_student['study_hours'])\n",
    "print(f'La media de horas de estudio a la semana por estudiantes de matemáticas es: {media}')\n",
    "\n",
    "mediana = np.median(math_student['study_hours'])\n",
    "print(f'La mediana de horas de estudio a la semana por estudiantes de matemáticas es: {mediana}')\n",
    "\n",
    "#Cálculo de media y mediana con pandas \n",
    "media_mediana_pandas = math_student['study_hours'].agg(['mean', 'median'])\n",
    "print(f'La media y la mediana de las horas de estudio a la semana por estudiantes de matemáticas es: {media_mediana_pandas}')"
   ]
  },
  {
   "cell_type": "markdown",
   "metadata": {},
   "source": [
    "<h1>Función .agg() de pandas a profundidad</h1>\n",
    "<p>Permite agregar operaciones como el cálculo de suma, media, mediana, máximo, mínimo, etc. Sobre columnas especificas de un DataFrame o serie. También se pueden utilizar funciones combinadas en una única llamada</p>"
   ]
  },
  {
   "cell_type": "code",
   "execution_count": null,
   "metadata": {},
   "outputs": [
    {
     "name": "stdout",
     "output_type": "stream",
     "text": [
      "  Producto  Ventas  Gastos\n",
      "0        A     100      50\n",
      "1        B     200      75\n",
      "2        C     300     100\n",
      "3        D     400     125\n",
      "_____________________\n",
      "Producto    ABCD\n",
      "Ventas      1000\n",
      "Gastos       350\n",
      "dtype: object\n"
     ]
    }
   ],
   "source": [
    "import pandas as pd\n",
    "\n",
    "#Datos d trabajo\n",
    "data = {\n",
    "    'Producto': ['A', 'B', 'C', 'D'],\n",
    "    'Ventas': [100, 200, 300, 400],\n",
    "    'Gastos': [50, 75, 100, 125]\n",
    "}\n",
    "\n",
    "#Convertir datos a DataFrame\n",
    "df = pd.DataFrame(data)\n",
    "print(df)\n",
    "print('_____________________')\n",
    "\n",
    "suma = df.agg('sum')\n",
    "print(suma)"
   ]
  },
  {
   "cell_type": "code",
   "execution_count": 31,
   "metadata": {},
   "outputs": [
    {
     "name": "stdout",
     "output_type": "stream",
     "text": [
      "  Producto  Ventas  Gastos\n",
      "0        A     100      50\n",
      "1        B     200      75\n",
      "2        C     300     100\n",
      "3        D     400     125\n",
      "_____________________________\n",
      "sum     1000.0\n",
      "mean     250.0\n",
      "max      400.0\n",
      "min      100.0\n",
      "Name: Ventas, dtype: float64\n",
      "______________________________\n",
      "sum     1000.0\n",
      "mean     250.0\n",
      "min        NaN\n",
      "max        NaN\n",
      "Name: Ventas, dtype: float64\n",
      "______________________________\n",
      "sum       NaN\n",
      "mean      NaN\n",
      "min      50.0\n",
      "max     125.0\n",
      "Name: Gastos, dtype: float64\n"
     ]
    }
   ],
   "source": [
    "import pandas as pd\n",
    "\n",
    "data = {\n",
    "    'Producto': ['A', 'B', 'C', 'D'],\n",
    "    'Ventas': [100, 200, 300, 400],\n",
    "    'Gastos': [50, 75, 100, 125]\n",
    "}\n",
    "\n",
    "df = pd.DataFrame(data)\n",
    "print(df)\n",
    "print('_____________________________')\n",
    "\n",
    "multiples_funciones = df['Ventas'].agg(['sum', 'mean', 'max', 'min'])\n",
    "print(multiples_funciones)\n",
    "\n",
    "resultados_multiples = df.agg({\n",
    "    'Ventas': ['sum', 'mean'],\n",
    "    'Gastos': ['min', 'max']\n",
    "})\n",
    "\n",
    "print('______________________________')\n",
    "print(resultados_multiples['Ventas'])\n",
    "\n",
    "print('______________________________')\n",
    "print(resultados_multiples['Gastos'])"
   ]
  }
 ],
 "metadata": {
  "kernelspec": {
   "display_name": "Python (myenv)",
   "language": "python",
   "name": "myenv"
  },
  "language_info": {
   "codemirror_mode": {
    "name": "ipython",
    "version": 3
   },
   "file_extension": ".py",
   "mimetype": "text/x-python",
   "name": "python",
   "nbconvert_exporter": "python",
   "pygments_lexer": "ipython3",
   "version": "3.12.3"
  }
 },
 "nbformat": 4,
 "nbformat_minor": 2
}
