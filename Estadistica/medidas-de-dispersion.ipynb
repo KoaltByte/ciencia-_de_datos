{
 "cells": [
  {
   "cell_type": "markdown",
   "metadata": {},
   "source": [
    "<h1>Medidas de dispersión</h1>\n",
    "<p><b>La dispersión</b> describe que tan separados o juntos están los datos</p>\n",
    "<h2>Varianza</h2>\n",
    "<ul>\n",
    "    <li><p>Mide la distancia media entre cada punto de datos y la media de los datos. Es decir, índica que tal lejos entán los valores individuales del promedio (media) del conjunto.<br/>Una varianza alta índica que los datos están más dispersos. <br/> Una varianza baja índica que los datos están más concentrados alrededor de la media</p></li>\n",
    "</ul>\n",
    "<ol>\n",
    "    <li>Varianza poblacional:</li><p>Se utiliza cuando se tiene acceso a todos los datos de la población completa, es decir, se conocen todos lo valores de todos los elementos del conjunto </p>\n",
    "    <li>Varianza muestral:</li><p>Se utiliza cuando sólo se tiene acceso a una parte (a una muestra) de los datos de la población, pero no a los datos completos. Esta  varianza se ajusta para corregir el sesgo </p>\n",
    "    \n",
    "</ol>"
   ]
  },
  {
   "cell_type": "markdown",
   "metadata": {},
   "source": [
    "<h3>Cálculo de la varianza con numpy</h3>"
   ]
  },
  {
   "cell_type": "code",
   "execution_count": 4,
   "metadata": {},
   "outputs": [
    {
     "name": "stdout",
     "output_type": "stream",
     "text": [
      "La varianza poblacional es: 8.0\n",
      "La varianza muestral es: 10.0\n"
     ]
    }
   ],
   "source": [
    "import numpy as np\n",
    "\n",
    "datos = [2, 4, 6, 8, 10]\n",
    "\n",
    "#Varianza de la población\n",
    "varianza_poblacional = np.var(datos)\n",
    "print(f'La varianza poblacional es: {varianza_poblacional}')\n",
    "\n",
    "#Varianza muestral\n",
    "varianza_muestal = np.var(datos, ddof=1)#ddof--> Grados de libertad (muestral = 1 y poblacional =0)\n",
    "print(f'La varianza muestral es: {varianza_muestal}')"
   ]
  },
  {
   "cell_type": "markdown",
   "metadata": {},
   "source": [
    "<h3>Cálculo de la varianza con statistics</h3>"
   ]
  },
  {
   "cell_type": "code",
   "execution_count": 6,
   "metadata": {},
   "outputs": [
    {
     "name": "stdout",
     "output_type": "stream",
     "text": [
      "La varianza poblacional es: 8\n",
      "La varianza muestral es: 10\n"
     ]
    }
   ],
   "source": [
    "import statistics\n",
    "\n",
    "datos = [2, 4, 6, 8, 10]\n",
    "\n",
    "varianza_poblacional = statistics.pvariance(datos)\n",
    "print(f'La varianza poblacional es: {varianza_poblacional}')\n",
    "\n",
    "varianza_muestal = statistics.variance(datos)\n",
    "print(f'La varianza muestral es: {varianza_muestal}')"
   ]
  },
  {
   "cell_type": "markdown",
   "metadata": {},
   "source": [
    "<h2>Desviación estándar</h2>\n",
    "<p>\n",
    " <ul>\n",
    "    <li>Es una medida de dispersión que índica cuanto se alejan los valores individuales de un conjunto de datos respecto a su media.</li>\n",
    "    <li>A diferencia de la varianza que se expresa en unidades cuadradas, la desviación estándar se expresa en las mismas unidades que los datos, por lo que la hace más interpretable. </li>\n",
    "\n",
    "</ul>\n",
    "</p>"
   ]
  },
  {
   "cell_type": "markdown",
   "metadata": {},
   "source": [
    "<h3>Cálculo de la desviación estándar con numpy</h3>"
   ]
  },
  {
   "cell_type": "code",
   "execution_count": 36,
   "metadata": {},
   "outputs": [
    {
     "name": "stdout",
     "output_type": "stream",
     "text": [
      "std poblacional: 2.8284271247461903\n",
      "std muestral: 3.1622776601683795\n"
     ]
    }
   ],
   "source": [
    "import numpy as np\n",
    "import matplotlib.pyplot as plt\n",
    "\n",
    "datos = [2, 4, 6, 8, 10]\n",
    "\n",
    "#std poblacional\n",
    "std_poblacional = np.std(datos)\n",
    "print(f'std poblacional: {std_poblacional}')\n",
    "\n",
    "#std muestral\n",
    "std_muestral = np.std(datos, ddof=1)\n",
    "print(f'std muestral: {std_muestral}')\n",
    "\n"
   ]
  },
  {
   "cell_type": "markdown",
   "metadata": {},
   "source": [
    "<h3>Cálculo de la desviación estándar con statistics</h3>\n"
   ]
  },
  {
   "cell_type": "code",
   "execution_count": 17,
   "metadata": {},
   "outputs": [
    {
     "name": "stdout",
     "output_type": "stream",
     "text": [
      "std poblacional: 2.8284271247461903\n",
      "std muestral: 3.1622776601683795\n"
     ]
    }
   ],
   "source": [
    "import statistics\n",
    "\n",
    "datos = [2, 4, 6, 8, 10]\n",
    "\n",
    "#std poblacional\n",
    "std_poblacional = statistics.pstdev(datos)\n",
    "print(f'std poblacional: {std_poblacional}')\n",
    "\n",
    "#std muestral\n",
    "std_muestral = statistics.stdev(datos)\n",
    "print(f'std muestral: {std_muestral}')"
   ]
  },
  {
   "cell_type": "markdown",
   "metadata": {},
   "source": [
    "<h2>Desviación media absoluta DMA</h2>\n",
    "<p>\n",
    "<ul>\n",
    "    <li>Es otra medida de dispersión, pero a diferencia de la varianza y la std,DMA utiliza los valores absolutos de los datos y no sus cuadrados .</li>\n",
    "    <li>Su principal ventaja es que es más robusta en valores atípicos (outliers), por que no eleva al cuadrado las diferencias, lo que significa que los valores extremos tienen menos influencia en el resultado. </li>\n",
    "</ul>\n",
    "</p>"
   ]
  },
  {
   "cell_type": "markdown",
   "metadata": {},
   "source": [
    "<h3>Cálculo de DMA con numpy</h3>"
   ]
  },
  {
   "cell_type": "code",
   "execution_count": 18,
   "metadata": {},
   "outputs": [
    {
     "name": "stdout",
     "output_type": "stream",
     "text": [
      "Desviación media absoluta DMA: 2.4\n"
     ]
    }
   ],
   "source": [
    "import numpy as np\n",
    "\n",
    "datos = [2, 4, 6, 8, 10]\n",
    "\n",
    "#Cálculo de la media\n",
    "media = np.mean(datos)\n",
    "\n",
    "#Cálculo de las diferencias absolutas\n",
    "diferencias_absolutas = np.abs(datos - media)\n",
    "\n",
    "#Cálculo de la DMA\n",
    "dma = np.mean(diferencias_absolutas)\n",
    "print(f'Desviación media absoluta DMA: {dma}')"
   ]
  },
  {
   "cell_type": "markdown",
   "metadata": {},
   "source": [
    "<h2>Cuantiles</h2>\n",
    "<p>\n",
    "<ul>\n",
    "    <li>Es un valor que divide a un conjunto de datos ordenados en partes iguales.</li>\n",
    "    <li>Estas medidas son útiles para entender la distribución de los datos y como es que se agrupan en diferentes segmentos</li>\n",
    "    <li>Dependiendo del número de divisiones, los cuantiles reciben nombres especificos:\n",
    "        <ul>\n",
    "            <li>Mediana: Divide los datos en dos partes iguales (50%)</li>\n",
    "            <li>Cuartiles: Divide los datos en cuatro partes iguales (25%, 50%, 75%)</li>\n",
    "            <li>Deciles: Divide los datos en 10 partes iguales (10%)</li>\n",
    "            <li>Porcentiles: Divide los datos en 100 partes iguales (1%, 2%...65%....99%)</li>\n",
    "        </ul>\n",
    "</ul>\n",
    "</p>"
   ]
  },
  {
   "cell_type": "markdown",
   "metadata": {},
   "source": [
    "<h3>Cálculo de cuantiles con numpy</h3>"
   ]
  },
  {
   "cell_type": "code",
   "execution_count": 38,
   "metadata": {},
   "outputs": [
    {
     "name": "stdout",
     "output_type": "stream",
     "text": [
      "Primer cuartil (Q1): 3.25\n",
      "Segundo cuartil (Q2) (mediana): 5.5\n",
      "tercer cuartil (Q3): 7.75\n"
     ]
    }
   ],
   "source": [
    "import numpy as pd\n",
    "\n",
    "datos = [1, 2, 3, 4, 5, 6, 7, 8, 9, 10]\n",
    "\n",
    "#Cálculo de cuantiles \n",
    "q1 = np.quantile(datos, 0.25)\n",
    "q2 = np.quantile(datos, 0.50)\n",
    "q3 = np.quantile(datos, 0.75)\n",
    "\n",
    "print(f'Primer cuartil (Q1): {q1}')\n",
    "print(f'Segundo cuartil (Q2) (mediana): {q2}')\n",
    "print(f'tercer cuartil (Q3): {q3}')\n"
   ]
  },
  {
   "cell_type": "markdown",
   "metadata": {},
   "source": [
    "<h3>Cálculo de cuantiles con pandas</h3>"
   ]
  },
  {
   "cell_type": "code",
   "execution_count": 1,
   "metadata": {},
   "outputs": [
    {
     "name": "stdout",
     "output_type": "stream",
     "text": [
      "Primer cuartil (Q1): 3.25\n",
      "Segundo cuartil (Q2) (mediana): 5.5\n",
      "tercer cuartil (Q3): 7.75\n"
     ]
    }
   ],
   "source": [
    "import pandas as pd\n",
    "\n",
    "datos = pd.Series([1, 2, 3, 4, 5, 6, 7, 8, 9, 10])\n",
    "\n",
    "#Cálculo de cuantiles\n",
    "q1 = datos.quantile(0.25)\n",
    "q2 = datos.quantile(0.50)\n",
    "q3 = datos.quantile(0.75)\n",
    "\n",
    "print(f'Primer cuartil (Q1): {q1}')\n",
    "print(f'Segundo cuartil (Q2) (mediana): {q2}')\n",
    "print(f'tercer cuartil (Q3): {q3}')\n"
   ]
  },
  {
   "cell_type": "markdown",
   "metadata": {},
   "source": [
    "<p><b>Interpretación de los datos</b>\n",
    "    <ul>   \n",
    "        <li>El primer cuartil (Q1​)  es 3.25, lo que significa que el 25% de los datos están por debajo de este valor.</li>\n",
    "        <li>La mediana (Q2​)  es 5.5, lo que significa que el 50% de los datos están por debajo de este valor.</li>\n",
    "        <li>El tercer cuartil (Q3​)  es 7.75, lo que significa que el 75% de los datos están por debajo de este valor.</li>\n",
    "    </ul>\n",
    "</p>\n",
    " \n",
    "     "
   ]
  },
  {
   "cell_type": "markdown",
   "metadata": {},
   "source": [
    "<h3>Uso de la función .linspace()</h3>\n",
    "<p>Esta función definir las divisiones (probabilidades) que se usara para calcular los cuantiles en un conjunto de datos. \n",
    "Es decir, genera una secuencia de valores espaciados que representan las posiciones relativas en la distribución  acumulada de datos, y luego utiliza esa división para calcular los cuantiles correspondientes<p>"
   ]
  },
  {
   "cell_type": "code",
   "execution_count": 1,
   "metadata": {},
   "outputs": [
    {
     "name": "stdout",
     "output_type": "stream",
     "text": [
      "Probabilidades: [0.   0.25 0.5  0.75 1.  ]\n",
      "Cuartiles: [20.  27.  35.  43.5 55. ]\n"
     ]
    },
    {
     "data": {
      "image/png": "[encoded data removed]",
      "text/plain": [
       "<Figure size 800x600 with 1 Axes>"
      ]
     },
     "metadata": {},
     "output_type": "display_data"
    }
   ],
   "source": [
    "import numpy as np\n",
    "import matplotlib.pyplot as plt\n",
    "import seaborn as sns\n",
    "\n",
    "datos = [20, 22, 25, 26, 28, 30, 32, 35, 37, 40, 42, 45, 48, 50, 55]\n",
    "\n",
    "\n",
    "probabilidades = np.linspace(0, 1, num= 5)\n",
    "\n",
    "cuartiles = np.quantile(datos, probabilidades)\n",
    "\n",
    "print(f'Probabilidades: {probabilidades}')\n",
    "print(f'Cuartiles: {cuartiles}')\n",
    "\n",
    "# Crear el gráfico de caja con seaborn\n",
    "plt.figure(figsize=(8, 6))\n",
    "sns.boxplot(data=datos, color=\"lightblue\")\n",
    "\n",
    "# Personalización del gráfico\n",
    "plt.title(\"Gráfico de Caja\")\n",
    "plt.xlabel(\"Edades\")\n",
    "plt.grid(alpha=0.3)\n",
    "\n",
    "# Mostrar el gráfico\n",
    "plt.show()\n"
   ]
  },
  {
   "cell_type": "markdown",
   "metadata": {},
   "source": [
    "<p><b>Interpretación del gráfico</b></p>\n",
    "<ul>\n",
    "    <li>20 es el valor mínimo en los datos, lo que significa que no hay datos por debajo de esta valor.</li>\n",
    "    <li>(Q1=27) El 25% de los datos esta por debajo del valor de 27 (el 25% de los datos esta entre 20 y 27)</li>\n",
    "    <li>(Q2=35) La mediana es 35, lo que significa que el 50% de los datos esta por debajo de ese valor (El 50% de los datos esta entre 20 y 27)</li>\n",
    "    <li>El 75% de los datos esta por abajo de 43.5.</li>\n",
    "</ul>"
   ]
  },
  {
   "cell_type": "code",
   "execution_count": null,
   "metadata": {},
   "outputs": [],
   "source": []
  }
 ],
 "metadata": {
  "kernelspec": {
   "display_name": "Python (myenv)",
   "language": "python",
   "name": "myenv"
  },
  "language_info": {
   "codemirror_mode": {
    "name": "ipython",
    "version": 3
   },
   "file_extension": ".py",
   "mimetype": "text/x-python",
   "name": "python",
   "nbconvert_exporter": "python",
   "pygments_lexer": "ipython3",
   "version": "3.12.3"
  }
 },
 "nbformat": 4,
 "nbformat_minor": 2
}
